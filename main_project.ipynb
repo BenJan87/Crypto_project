{
 "cells": [
  {
   "attachments": {},
   "cell_type": "markdown",
   "metadata": {},
   "source": [
    "# Szyfrowanie poskwantowe z użyciem izogenii - Beniamin Jankowski, Paweł Kica, Kamil Szydłowski"
   ]
  },
  {
   "attachments": {},
   "cell_type": "markdown",
   "metadata": {},
   "source": [
    "## 1. Co to kwanty i komputery kwantowe?\n",
    "\n",
    "> **Trochę historii...**\n",
    "* W związku z rozwojemt technologii, potrzebujemy coraz lepszych, skuteczniejszych i szybszych metod rozwiązywania problemów. Dochodzimy do momentu, gdzie pewne skomplikowane operacje wymagają za dużo czasu. Z pomocą fizyków kwantowych tworzono pierwsze prototypy komputerów kwantowych już w 2001 roku przez grupę informatyków i Uniwersytetu Stanford - dokonano rozkładu liczby 15 na liczby 3 oraz 5. Liczbę 21 rozłożono dopiero w 2011.\n",
    "\n",
    "    ![](images/first_quantum_computer.jpg)\n",
    "    \n",
    "    *Pierwszy komputer kwantowy z 2011 roku stworzony przez kanadyjską firmę D-Wave Systems, Inc. - obraz ich autorstwa*\n",
    "\n",
    "> **Jak działają komputery kwantowe**\n",
    "* Komputery kwantowe działają na zasadzie mechaniki kwantowej, gdzie operujemy na tzw. *kubitach* lub *bitach kwantowych*. Jak sama nazwa mówi są to odpowiedniki bitów, natomiast posiadają niezwykłe właściwości. Powszechnie wiadomo, że bit jest reprezentowany jako 0 lub 1.  Kubit z kolei może przyjmować stan pomiędzy wartością 0 a 1, może być 'trochę jedynką, trochę zerem' - jednocześnie jedynką oraz jednocześnie zerem.\n",
    "\n",
    "    ![wybrażenie stanu kubitu jako sfera Blocha - autorstwa Smite-Meister](images/Bloch_sphere.svg.png) \n",
    "    \n",
    "    *Wybrażenie stanu kubitu jako sfera Blocha - autorstwa Smite-Meister*\n",
    "    \n",
    "    Właściwość ta nazywa się superpozycją jedynki oraz zera (tak jak w równaniach różniczkowych - jedno rozwiązanie plus drugie rozwiązanie wciąż daje rozwiązanie danego równania). W związku z tak potężną umiejętnością kubitu, jesteśmy w stanie prowadzić wiele obliczeń równolegle - tutaj skojarzenia mogą prowadzić do wielowątkowości. O stanie takiego kubitu dowiaduejmy się dopiero po zmierzeniu tego stanu. Na podobnej zasadzie możemy dążyć do generowania liczb prawdziwie-losowych na podstawie polaryzacji światła.\n",
    "\n",
    "> **Czy komputery kwantowe rzeczywiście są szybsze od współczesnych komputerów??**\n",
    "* Otóż *nie*, a przynajmniej nie do końca. Gdyby dało się przeglądać internet czy oglądać filmy na komputerze kwantowym - sam proces byłby równie szybki co na współczesnym komputerze. Prawdziwa moc komputerów kwantowych objawia się nam podczas obliczania specyficznych zależności i wykonywania konkretnych algorytmów. Dobrym przykładem jest problem faktoryzacji dużych liczb, czyli rozkładu na dwie pierwsze liczby. Superkomputery wciąż do tego problemu używają techniki brute-force, co, najzwyczajniej w świecie, zajmuje czas. Aktualnie algorytm ten jest uważany za bezpieczny, natomiast dzięki komputerom kwantowym możemy usprawnić oblcizenia stosując możliwość wykonywania wielu operacji naraz.\n",
    "\n",
    "* Załóżmy, że mamy dwa bity, czyli są cztery możliwości: 00, 10, 01, 11. Skoro kubit może być 'jednocześnie' zerem lub jedynką potrzebujemy tylko dwóch kubitów, aby posiadać cztery wymienione wyżej stany. Liczba stanów określa się za pomocą wzoru 2<sup>N</sup>, gdzie N to liczba kubitów. Na przykładzie weźmy liczbę półpierwszą (liczba iloczynu dwóch liczb pierwszych), która jest rzędu ok. 10<sup>200</sup> - zwykły komputer potrzebuje 2000 lat na odgadnięciu tych dwóch liczb pierwszych. \n",
    "\n",
    "> **Czyli udało się rozłożyć ogromne liczby pierwsze?**\n",
    "* Czysto teoretycznie jesteśmy w stanie robić *2<sup>n</sup>* zamiast *n* obliczeń za pomocą komputerów kwantowych, natomiast nie jest to zgodne ze stanem faktycznym. W 2018 roku, za pomocą 2 kubitów jesteśmy w stanie faktoryzować liczbe 7-cyfrową t.j. 4088459 [by IBM researchgroup](https://arxiv.org/abs/1805.10478) - warto dodać, że jest to największa dotąd rozłożona liczba półpierwsza za pomocą kwantów. W związku z tym nie jesteśmy w stanie jeszcze rozkładać ogromnych liczb pierwszych za pomocą technologii kwantowych, natomiast może to się zupełnie zmienić po wprowadzeniu teorii informatyczno-fizycznej w codzienny użytek."
   ]
  },
  {
   "attachments": {},
   "cell_type": "markdown",
   "metadata": {},
   "source": [
    "## 2. Krzywe eliptyczne\n",
    "\n",
    ">**Po co są tutaj krzywe eliptyczne?**\n",
    "\n",
    "* Aby odkryć moc Izogenii, które będą wyjaśnionie w późniejszych akapitach najpierw należy odkryć krzywe eliptyczne. Przedstawimy najprostsze i niezbędne zagadania dot. tego tematu. Na początek należy zdefiniować działania na potrzeby szyfrowania w kryptografii.\\\n",
    "Można udowodnić, że każdą krzywą eliptyczną można zapisać w postaci: y<sup>2</sup> + axy + by = x<sup>3</sup> + cx<sup>2</sup> + dx + e\n",
    "\n",
    ">**Aksjomaty**\n",
    "\n",
    "* Wprowadźmy parę rzeczy:\n",
    "\n",
    "    * Spróbujmy pododawać punkty na płaszczyźnie. Dodawanie definiujemy następująco:\\\n",
    "    Jeśli trzy punkty (A, B, C) są współliniowe to ***A + B + C = 0***.\\\n",
    "    Zatem A + B = -C => Należy zdefiniować co oznacza punkt **-C**.\n",
    "\n",
    "    * Negacją punktu nazywamy operację *odbicia* punktu względem osi O<sub>x</sub> - oznaczamy wtedy taki punkt z minusem.\n",
    "    \n",
    "Zatem jeśli mamy już te dwa działania, to wyobraźmy sobie dwa punkty i przeprowadźmy przez nią prostą. Niech te punkty należą do krzywej o równaniu y<sup>2</sup> = x<sup>3</sup> - 3x + 4. Punkty mają współrzędne A=(-2, $\\sqrt{2}$), B=(0,2). Obliczamy równanie prostej, które wraz z naszą zadaną krzywą eliptyczną tworzą układ równań, gdzie znamy już dwa rozwiązania (gdyż punkty A oraz B należą zarówno do krzywej jak i prostej). Następnie nalęzy znegować otrzymany punkt - poniżej wykres przedstawiający sytuację oraz pokazujący otrzymany punkt. Do zwizualizowania powyższej sytuacji (jak również pozostałych wykresów) użyto strony [Elliptic Curve scalar multiplication (𝔽p)](https://andrea.corbellini.name/ecc/interactive/reals-add.html))\n",
    "\n",
    "![](images/eliptic_add_basic.png)\n",
    "\n",
    "* Co jeżeli punkty się pokrywają, tzn. A = B ?\\\n",
    "    Wtedy możemy poprowadzić styczną do wykresu w tym punkcie, czyli liczenie pochodnej funkcji - *UWAGA* krzywa eliptyczna nie jest funkcją, gdyż $y = \\pm\\sqrt{x^3 - 3x + 4}$. Z tego powodu należy dopasować funkcję do podanego punktu - zależy czy rzędna punktu jest dodatnia czy ujemna. Poniżej przedstawiono dodawanie A + A, czyli 2A:\n",
    "\n",
    "    ![](images/same_point_adding.png)\n",
    "\n",
    "* Mając dodawanie różnych oraz tych samych punktów, możemy teraz zdefiniować mnożenie punktu jako $n\\ ·\\ A = A + A + ... + A$, gdzie dodajemy A do siebie n razy, czyli: $A + A = 2A$, jak również: $A + A + A = 2A + A = 3A$ itd. Poniżej przykładowe mnożenie punktu A - 5 razy.\n",
    "\n",
    "    ![](images/multi_point.png)\n",
    "\n",
    ">**Czy można <i>utrudnić</i> cały proces?**\n",
    "\n",
    "Tak, można rozważać punkty tylko w pewnym ciele. Ciało te to 𝔽p, gdzie zamiast dzielenia będziemy wyznaczać element odwrotny w tym właśnie ciele skończonym. Jak sama nazwa mówi, ma ono ograniczoną liczbę elementów. Także poruszamy się tylko po pewnch punktach po naszej krzywej, która teraz przyjęła postać: $y^2 = x^3 + Ax + B\\ mod\\ P$.\n",
    "\n",
    ">**Kolejne kroki algorytmu**\n",
    "\n",
    "* Na początku potrzebujemy rozbudowanego algorytmu Euclidesa. Ogólnie polega na znalezieniu liczb, które spełniają poniższą zależność:\\\n",
    "    ax + by = NWD(a, b) - gdzie NWD to najwięszky wspólny dzielnik liczby a oraz b.\\\n",
    "    Poniżej podano jego implementację (skorzystano z danego [pseudokodu](https://en.wikipedia.org/wiki/Extended_Euclidean_algorithm#Pseudocode))\n"
   ]
  },
  {
   "cell_type": "code",
   "execution_count": 30,
   "metadata": {},
   "outputs": [
    {
     "name": "stdout",
     "output_type": "stream",
     "text": [
      "(3, -63, 17)\n"
     ]
    }
   ],
   "source": [
    "def extended_euclidean_algorithm(a, b):\n",
    "    \n",
    "    s, old_s = 0, 1\n",
    "    t, old_t = 1, 0\n",
    "    r, old_r = b, a\n",
    "\n",
    "    while r != 0:\n",
    "        quotient = old_r // r\n",
    "        old_r, r = r, old_r - quotient * r\n",
    "        old_s, s = s, old_s - quotient * s\n",
    "        old_t, t = t, old_t - quotient * t\n",
    "\n",
    "    return old_r, old_s, old_t\n",
    "\n",
    "print(extended_euclidean_algorithm(123, 456))\n"
   ]
  },
  {
   "attachments": {},
   "cell_type": "markdown",
   "metadata": {},
   "source": [
    "* Następnie potrzebujemy dzielenia modulo, gdzie tak naprawdę nie istnieje takie działanie. Dlatego zamiast $\\frac{x}{y}$ będziemy używać $x\\cdot y^{-1}$. W przypadku naszego skończonego ciała $y^{-1}$ będziemy rozumieć jako element odwrotny do $y$. Do tego będzie nam słyżyć poniższa implementacja:"
   ]
  },
  {
   "cell_type": "code",
   "execution_count": 35,
   "metadata": {},
   "outputs": [
    {
     "name": "stdout",
     "output_type": "stream",
     "text": [
      "4\n"
     ]
    }
   ],
   "source": [
    "def inverse_of(n, p):\n",
    "    \n",
    "    gcd, x, y = extended_euclidean_algorithm(n, p)\n",
    "    assert (n * x + p * y) % p == gcd\n",
    "\n",
    "    if gcd != 1:\n",
    "        raise ValueError(f\"{n} has no multiplicative inverse modulo {p}\")\n",
    "    return x % p\n",
    "\n",
    "print(inverse_of(5, 19))"
   ]
  },
  {
   "attachments": {},
   "cell_type": "markdown",
   "metadata": {},
   "source": [
    "* Poniżej z kolei znajduje się implementacja punktu należącego do 𝔽p oraz znajdujący się na zadanej krzywej. W komentarza kolejno wyjaśniono kolejne funkcje. Z pewnością najważniejsza funkcja to funkcja ```__mul__```, dzięki której jesteśmy w stanie mnożyć punkty przez skalary. Użyto tutaj algorytmu, który jest optymalny z pary względów. Zamiast dodawać punkty do siebie **n** razy można skorzystać z tzw. \"double and add\", czyli można pomnożyć ten punkt razy dwa a następnie przez skalar o połowę miejszy dopóki nie uzyskamy n pomnożonego punktu. Oczywiście trzeba pamiętać o liczbach nieparzystych co zostało uzwględnione w metodzie magicznej ```__mul__```:"
   ]
  },
  {
   "cell_type": "code",
   "execution_count": 32,
   "metadata": {},
   "outputs": [],
   "source": [
    "\n",
    "\n",
    "class EllipticCurve():\n",
    "    # Tworzenie klasy krzywej eliptycznej\n",
    "    # z współczynnikami A, B i liczbą pierwszą p\n",
    "    def __init__(self, a, b, p):\n",
    "        self.a = a\n",
    "        self.b = b\n",
    "        self.p = p\n",
    "\n",
    "\n",
    "class Point():\n",
    "\n",
    "    # Poniżej budujemy punkt i utożsamamy go z daną krzywą\n",
    "    # Jeśli punkt nie jest określony, to ustawiamy x i y na nieskończoność - tzw. punkt w nieskończoności\n",
    "    def __init__(self, curve, x=float(\"inf\"), y=float(\"inf\")):\n",
    "        self.curve = curve\n",
    "        self.p = curve.p\n",
    "        self.x = x % curve.p\n",
    "        self.y = y % curve.p\n",
    "\n",
    "    \n",
    "    def __str__(self):\n",
    "        return f\"Point({self.x}, {self.y} with p={self.p})\"\n",
    "\n",
    "    def __add__(self, sec_point):\n",
    "        # sprawdzanie czy to ten sam punkt - czyli podwojenie go\n",
    "        if self.x == sec_point.x and self.y == sec_point.y:\n",
    "            return self.double()\n",
    "        \n",
    "        dx = sec_point.x - self.x\n",
    "        dy = sec_point.y - self.y\n",
    "\n",
    "        # nie chcemy dzilić przez 0 :(\n",
    "        if dx == 0:\n",
    "            return Point(self.curve)\n",
    "        \n",
    "        # obliczanie nachylenia, lecz zamiast dzielić przez dx, to mnożymy przez jego element odwrotny        \n",
    "        slope = (dy * inverse_of(dx, self.p)) % self.p\n",
    "        \n",
    "        x = (slope ** 2) - self.x - sec_point.x\n",
    "        y = slope * x + (self.y - slope * self.x)\n",
    "        x %= self.p\n",
    "        y %= self.p\n",
    "\n",
    "        # pamiętajmy o zwróceniu negacji y\n",
    "        return Point(self.curve, x, -y)\n",
    "        \n",
    "    def __mul__(self, scalar):\n",
    "        # funkcja jako mnożenie punktu przez skalar - czyli dodawanie\n",
    "        \n",
    "        # mnożenie przez 0 zwraca punkt w nieskończoności\n",
    "        if scalar == 0:\n",
    "            return Point(self.curve)\n",
    "        # mnożenie przez 1 zwraca ten sam punkt\n",
    "        if scalar == 1:\n",
    "            return self\n",
    "        \n",
    "        # sytuacja przy skalarze parzystym\n",
    "        if scalar % 2 == 0:\n",
    "            lambda_ = ((3 * self.x * self.x + self.curve.a) * inverse_of(2 * self.y, self.p)) % self.p\n",
    "            new_x = (lambda_ * lambda_ - 2 * self.x) % self.p\n",
    "            new_y = (lambda_ * (self.x - new_x) - self.y) % self.p\n",
    "            return Point(self.curve, new_x, new_y) * (scalar // 2)\n",
    "        \n",
    "        # pamiętać o nieparzystych skalarach - wtedy należy po prostu dodać\n",
    "        else:\n",
    "            return self + self * (scalar - 1)\n",
    "\n",
    "    def double(self):\n",
    "        # podwajanie punktu jako liczenie pochodnej - nachylenia stycznej\n",
    "        \n",
    "        slope = (3 * (self.x ** 2) + self.curve.a) * inverse_of(2 * self.y, self.p)\n",
    "        x = (slope ** 2) - (2 * self.x)\n",
    "        y = slope * x + (self.y - slope * self.x)\n",
    "        \n",
    "        x %= self.p\n",
    "        y %= self.p\n",
    "\n",
    "        return Point(self.curve, x, -y)\n",
    "    \n",
    "    def __getitem__(self, i):\n",
    "        # funkcja pomocnicza do późniejszych algorytmów\n",
    "\n",
    "        if i == 0:\n",
    "            return self.x\n",
    "        elif i == 1:\n",
    "            return self.y\n",
    "\n",
    "    def oppsite(self):\n",
    "        # funkcja negująca\n",
    "        return Point(self.curve, self.x, -self.y)    "
   ]
  },
  {
   "attachments": {},
   "cell_type": "markdown",
   "metadata": {},
   "source": [
    "Poniżej *drobny* test funkcji dodającej oraz mnożącej przy użyciu podanych parametrów"
   ]
  },
  {
   "cell_type": "code",
   "execution_count": 37,
   "metadata": {},
   "outputs": [
    {
     "name": "stdout",
     "output_type": "stream",
     "text": [
      "Dwa pierwsze punkty\n",
      "Point(3, 58 with p=257)\n",
      "Point(112, 141 with p=257)\n",
      "Następne punkty powinny być identyczne - mnożenie przez 6 lub dodawanie 6 razy tego samego punktu\n",
      "Point(254, 66 with p=257)\n",
      "Point(254, 66 with p=257)\n"
     ]
    }
   ],
   "source": [
    "P = 257\n",
    "A = -3\n",
    "B = 5\n",
    "\n",
    "test_el_curve = EllipticCurve(A, B, P)\n",
    "\n",
    "# punkt nalężacy do zadanej krzywej eliptycznej\n",
    "first_Point = Point(test_el_curve, 3, 58)\n",
    "\n",
    "print(\"Dwa pierwsze punkty\")\n",
    "print(first_Point)\n",
    "print(first_Point + first_Point)\n",
    "\n",
    "print(\"Następne punkty powinny być identyczne - mnożenie przez 6 lub dodawanie 6 razy tego samego punktu\")\n",
    "print(first_Point + first_Point + first_Point + first_Point + first_Point + first_Point)\n",
    "print(first_Point * 6)\n",
    "\n"
   ]
  },
  {
   "attachments": {},
   "cell_type": "markdown",
   "metadata": {},
   "source": [
    ">**Wizualizacja powyższej implementacji**\n",
    "\n",
    "* Jak pamiętamy z wizualizacji, gdzie rozważaliśmy naszą krzywą eliptyczną nad ciałem ℝ, dodawanie to było to odbicie punktu względem osi odciętych punktu który jako trzeci należał jednocześnie do prostej oraz krzywej eliptycznej. Poniżej wizualizacja dodawania w naszym ciele skończonym\n",
    "\n",
    "    ![](images/eliptic_points.png)\n",
    "\n",
    "    Jak widzimy krzywa eliptyczna przyjęła postać pewnych punktów, a prosta to tak naprawdę prost**e**, którę przechodzą przez właśnie trzy punkty. Całość można porównać do poniższego rysunku torusa, gdzie prosta to tak naprawdę krzywa zakręcająca wokół niego ([źródło obrazu](https://mathematica.stackexchange.com/questions/115414/curve-wound-on-torus?noredirect=1)):\n",
    "\n",
    "    ![](images/torus.png)\n",
    "\n",
    "* Skoro nasza krzywa to teraz zbiór określonych punktów to mnożenie przez skalary punktów to poruszanie się od punktu do punktu, które to należą do naszego ciała. Poniżej przykład pewnego mnożenia:\n",
    "\n",
    "    ![](images/multi_eliptic_field.png)"
   ]
  },
  {
   "attachments": {},
   "cell_type": "markdown",
   "metadata": {},
   "source": [
    "PRZERWA"
   ]
  },
  {
   "attachments": {},
   "cell_type": "markdown",
   "metadata": {},
   "source": [
    "PRZERWA"
   ]
  },
  {
   "attachments": {},
   "cell_type": "markdown",
   "metadata": {},
   "source": [
    "## 3. Protokoły kryptograficzne wykorzystujące izogenie\n",
    "\n",
    "Do tej pory zaproponowanych zostało kilka protokołów korzystających z izogenii. Większość z nich implementuje algorytm wymiany klucza Diffie-Hellman, zastępując tradycyjne operacje na liczbach pierwszych, które teoretycznie są możliwe do złamania za pomocą algorytmu Shore’a, operacjami opierającymi się na izogeniach między krzywymi eliptycznymi. Zaproponowany został również jeden protokół podpisu cyfrowego - SQISign, który korzysta z izogenii. W tej pracy zagłębimy się w działanie protokołów SIDH, CSIDH oraz wspomnianego wcześniej SQISign.\n",
    "\n",
    "### 3.1. SIDH - Supersingular Isogeny Diffie-Hellman**\n",
    "\n",
    ">**Wstęp**\n",
    "\n",
    "Protokół SIDH został oryginalnie opracowany w 2011 roku przez matematyków Luce de Feo, Davida Jao i Jerome Pluta. Następnie wykorzystano go oraz rozwinięto by stworzyć system kryptograficzny SIKE - Supersingular Isogeny Key Encapsulation, który był rozwijany przez wielu naukowców pochodzących z firm takich jak Microsoft, Amazon, Texas Instruments oraz uniwersytetów z Francji oraz Stanów Zjednoczonych. W swojej rozwiniętej wersji trafił on do konkursu organizacji NIST, na najlepszy postkwantowy algorytm szyfrujący gdzie dotarł do czwartej rundy i wydawał się najlepszą propozycją, która korzysta z izogenii - niestety jednak został on złamany - o czym można przeczytać dalej w tej pracy i obecnie nie odnaleziono żadnych modyfikacji, które wyeliminowałyby znalezione podatności nie zmniejszając przy tym diametralnie wydajności algorytmu.\n",
    "\n",
    ">**Schemat działania**\n",
    "\n",
    "Podobnie jak oryginalny algorytm Diffiego-Hellmana SIDH strony godzą się na wspólne wartości - w tym przypadku jest to liczba pierwsza p postaci: $p=l_{A}\\ ^{e_{A}}\\cdot l_{B}\\ ^{e_{B}}\\cdot t \\pm 1$, gdzie $l_{A}=2$, $l_{B}=3$, $e_{A}$ i $e_{B}$  są dobrane tak by $l_{A}\\ ^{e_{A}} \\approx l_{B}\\ ^{e_{B}}$, a $t$ to mała liczba całkowita dobrana tak aby p była liczbą pierwszą, krzywa eliptyczna E nad ciałem Kp^2, oraz cztery ustalone punkty z krzywej $E: P_{A}, Q_{A}, P_{B}, Q_{B}$, których rzędy muszą wynosić odpowiednio dla $P_{A}$ i $Q_{A}$: $l_{A}\\ ^{e_{A}}$ oraz dla $P_{B}$ i $Q_{B}$: $l_{B}\\ ^{e_{B}}$. Następnie strony obliczają kombinację liniową ze znanych punktów, strona A: $R_{A} = mP_{A} + nQ_{A}$ , strona B: $R_{B} = kP_{B} + lQ_{B}$ liczby $m,n,k,l$ są losowo wybierane przez strony. Działanie dodawania punktów na krzywej eliptycznej jest zdefiniowane tak, że w jego wyniku na pewno otrzymamy punkt leżący na tej krzywej, z tego powodu otrzymane $R_{A}$ oraz $R_{B}$ należą do krzywej $E$, oraz grupy przez nie generowane są podgrupami grupy tworzonej przez $E$ oraz operacji dodawania punktów na krzywych. Istnieje twierdzenie mówiące, że jeśli grupa generowana przez $R$ jest podgrupą grupy z $E$, to istnieje unikalna izogenia o jądrze generowanym przez $R$. Otrzymujemy ją korzystając ze wzorów Velu, tak każda ze stroną otrzymuje swoją tajną izogenię odpowiednio $f_{A}: E\\rightarrow E_{A}$ oraz $f_{B}: E\\rightarrow E_{B}$ - co ważne strukturą algebraiczną, w której poruszamy się za pomocą obliczanych izogenii nie jest grupa a graf, którego wierzchołkami są krzywe eliptyczne - w tym nasza startowa krzywa $E$ oraz obliczone krzywe $E_{A}$ oraz $E_{B}$, a krawędzie stanowią izogenie między nimi, jest to tak zwana klasa izogenii. Odpowiednie ustalenie punktów $P_{A}, Q_{A}, P_{B}, Q_{B}$  gwarantuje, że izogenie otrzymane przez obie strony będą różne. Następnym krokiem jest obliczenie wartości izogenii dla punktów $P_{A}, Q_{A}$ przez stronę $B$ i $P_{B}$, $Q_{B}$ przez stronę $A$, a następnie przesłanie ich oraz $E_{A}$ i $E_{B}$, trójki te pełnią rolę klucza publicznego, przez kanał komunikacyjny do drugiej strony. W tym momencie strona $A$ posiada: $f_{B}(P_{A}), f_{B}(Q_{A})$, a strona $B:\\ f_{A}(P_{B}), f_{S}(Q_{B})$ następnie obliczamy kombinację liniową tych punktów wykorzystując użyte już losowe współczynniki. Strona $A: SA= mf_{B}(P_{A}) + nf_{B}(Q_{A})$, strona $B: SB= kf_{A}(P_{B}) + lf_{A}(Q_{B})$. Ponownie na podstawie przytoczonego wcześniej twierdzenia oraz wzorów Velu tworzymy nowe izogenie: $v_{A}$ o jądrze generowanym przez $S_{A}$ oraz $v_{B}$ o jądrze generowanym przez $S_{B}$, do których każda ze stron wstawia otrzymane odpowiednio $E_{A}$ lub $E_{B}$, aby otrzymać nową krzywą eliptyczną $E_{AB}$, która pełni rolę wspólnego sekretu, czyli tajnego klucza. W praktyce jako klucza używa się niezmiennika j otrzymanej krzywej, którego wartość zależy od jej współczynników.\n",
    "\n",
    "![](images/key_start.png)\n",
    "\n",
    "*schemat ustalania klucza za pomocą protokołu SIDH - De Feo, Luca; Jao, Plut. \"Towards quantum-resistant cryptosystems from supersingular elliptic curve isogenies\"*\n",
    "\n",
    ">**SIKE - Supersingular Isogeny Key Encapsulation**\n",
    "\n",
    "Powyższy opis algorytmu ustalania klucza szyfrującego możemy łatwo przekształcić w algorytm kryptografii z kluczem publicznym co autorzy uczynili i nazwali SIKE. Konstrukcja tego mechanizmu ma się do SIDH jak El-Gamal do oryginalnego protokołu Diffiego-Hellmana. Oprócz wartości startowych opisanych powyżej będziemy potrzebować jeszcze rodziny funkcji skrótu $H=\\{H_{k}\\}, k∈K$ gdzie K to skończony zbiór i dla każdego k $H_{k}$ prowadzi z ciała $F_{p^2}$ do przestrzeni wiadomości, wtedy klucz publiczny przyjmuje postać: ($E_{A}$, $f_{A}$($P_{B}$), $f_{A}$($Q_{B}$), k), gdzie krzywa eliptyczna $E_{A}$ oraz wartości izogenii $f_{A}$ dla danych punktów są obliczane tak jak w schemacie działania powyżej, a k to liczba wybrana losowo z K, klucz prywatny stanowi natomiast trójka (m, n, k), m oraz n również jak wyżej, k to liczba wybrana losowo z K, ta sama co w kluczu publicznym. Szyfrowanie wygląda następująco: posiadając klucz publiczny oraz jawną wiadomość obliczamy h jako skrót z niezmiennika j krzywej eliptycznej EAB otrzymanej jak wyżej, następnie xorujemy tą wartość z wiadomością w. $h=H_{k}(j(E_{AB}))$, c=h⊕w. Szyfrogram ma postać: ($E_{B}$, $f_{B}$($P_{A}$), $f_{B}$($Q_{A}$), $c$). Deszyfrowanie: posiadając klucz prywatny oraz szyfrogram również jesteśmy w stanie dotrzeć do krzywej eliptycznej EAB - opisane w schemacie działania - następnie możemy powtórzyć operację  h=$H_{k}$(j(EAB)) oraz odszyfrować wiadomość w ponownie działając operatorem xor: w=h⊕c, w-wiadomość w tekście jawnym.\n",
    "\n",
    ">**Jak bardzo bezpieczny jest to algortym?**\n",
    "\n",
    "SIDH zanim został złamany mógł pochwalić się zapewnieniem podobnego bezpieczeństwa - 128 bitowe bezpieczeństwo kwantowe oraz 192 bitowe bezpieczeństwo klasyczne - jak inne protokoły w konkursie NIST używając przy tym najkrótszych kluczy: 378 bajtowych kluczy publicznych oraz, w zależności od wersji, mógł korzystać z 512 bitowych, 768 bitowych lub 1024 bitowych kluczy prywatnych. Ponadto działał on bardzo szybko - poszczególne etapy algorytmu ustalania klucza, w zależności od jego długości zajmowały od ok. 25 ms dla klucza 512 bitowego do ok 120 ms dla klucza 1024 bitowego.\n",
    "\n",
    ">**Klęska protokołu SIKE** \n",
    "\n",
    "30 lipca 2022 roku pojawiła się praca naukowa autorstwa Woutera Castryka oraz Thomasa Decru z uniwersytetu w Leuven. Przedstawili oni algorytm łamiący kryptosystem SIKE. Algorytm ten opiera się na pracach naukowych na temat izogenii opracowanych przez matematyka Ernsta Kaniego w 1997 roku. Przedstawiony przez autorów atak jest możliwy do przeprowadzenia dzięki znajomości punktów na krzywych eliptycznych, oraz obrazu tych punktów dla tajnych izogenii - pełnią one rolę klucza publicznego. W produkcyjnej wersji kryptosystemu do wyliczenia swojej tajnej izogenii strony obliczały kilka pośrednich izogenii, a następnie wykorzystywano ich złożenie  - nie tak jak w schemacie powyżej, gdzie mamy tylko jedną rundę. Wiedząc jak dane punkty zachowują się po przejściu przez izogenie jesteśmy w stanie - jako atakujący odtworzyć kroki poczynione przez jedną ze stron - w praktyce atak celuje w stronę B wymiany, ale nie jest to wymagane, i w konsekwencji uzyskać jej klucz prywatny. Implementacja tego ataku przez autorów jest w stanie złamać wersję protokołu SIKEp182 - 182 bitowa liczba pierwsza - w cztery minuty, SIKEp217 w 6 minut, SIKEp434 - wersję, o której sądzono, że spełnia warunki bezpieczeństwa pierwszego poziomu NIST - w 62 minuty. Wszystkie te próby zostały wykonane na jednordzeniowym komputerze.\n",
    "\n",
    "### 3.2. CSIDH - Commutative Supersingular Isogeny Diffie-Hellman\n",
    "\n",
    ">**Wstęp**\n",
    "\n",
    "Protokół CSIDH zaproponowany przez Woutera Castrycka, Tanje Lange, Chloe Martindale, Lorenza Pannyego i Joosta Renesa naukowców z uniwersytetów z Belgii i Holandii w 2018 roku. Również działa podobnie do klasycznego algorytmu zaproponowanego przez Diffiego i Hellmana jednak w odróżnieniu od systemu SIDH jedyne informacje, z których korzystają strony przy ustalaniu klucza to duża liczba pierwsza p obliczana jako iloczyn małych nieparzystych liczb pierwszych oraz supersingularna krzywa eliptyczna E0 o ustalonym pierścieniu endomorfizmów, nie są potrzebne dodatkowe informacje na przykład o punktach na tych krzywych, jak w protokole SIDH. Cały schemat CSIDH jest oparty na modelu matematycznym opracowanym w 1997 r., korzystającym ze zwykłych (nie supersingularnych) krzywych eliptycznych, który autorzy rozbudowali.\n",
    "\n",
    ">**Schemat działania**\n",
    "\n",
    "Algorytm zaczyna się od ustalonych wartości: liczby pierwszej p, będącej iloczynem wielu małych nieparzystych liczb pierwszych oraz supersingularnej krzywej eliptycznej $E_{0}$ o ustalonym pierścieniu endomorfizmów. Generacja kluczy prywatnych polega na losowym wybraniu wartości z przedziału od -M do M, gdzie M to pewna liczba związana z rzędem grupy klas ideałów wspomnianego pierścienia. Następnie wybrany wektor $(e_{1}, … , e_{n})$, pełniący rolę klucza prywatnego, służy do skonstruowania klasy ideałów $[g]$ należącej do grupy klas ideałów wybranego pierścienia. Kluczem publicznym jest współczynnik Montgomery’ego krzywej eliptycznej otrzymanej dzięki zastosowaniu akcji $[g]$ na krzywej eliptycznej $E_{0}$. W ten sposób strona $A$ otrzymuje nową krzywą $A’ = [gA]E_{0}$ o współczynniku Montgomery’ego $A$ a strona $B$ krzywą $B’ = [gB]E_{0}$ o współczynniku $B$. Strony zamieniają się wartościami $A$ i $B$ przez kanał komunikacyjny a następnie wyliczają nową krzywą eliptyczną, strona $A: S’=[gA]B’=[gA][gB]E_{0}$, strona $B: S’=[gB]A’=[gB][gA]E_{0}$. Jak widzimy otrzymane krzywe są identyczne a rolę ustalonego tajnego klucza pełni współczynnik Montgomery’ego $S$ krzywej $S’$.\n",
    "\n",
    ">**Bezpieczeństwo**\n",
    "\n",
    "Protokół CSIDH używa jeszcze krótszych kluczy publicznych bo 64 bajtowych oferując przy tym bezpieczeństwo kwantowe na poziomie 64 bitów, a klasyczne na poziomie 128 bitów. Oferowane rozmiary kluczy prywatnych to 512 bitów, 1024 bity lub 1792 bity a czas trwania algorytmu wynosi około 80 ms.\n",
    "\n",
    "### 3.3. SQISign - Short Quaternion and Isogeny Signature\n",
    "\n",
    ">**Wstęp**\n",
    "\n",
    "Protokół ten został po raz pierwszy przedstawiony w 2020 roku przez grupę naukowców: Luce De Feo, Davida Kohela, Antonina Leroux, Christophera Petit i Benjamina Wesolowskiego z uniwersytetów we Francji, Belgii oraz Anglii. Spośród innych kandydatów na postkwantowy protokół podpisu cyfrowego wyróżnia się on kompaktowością - połączony klucz publiczny oraz podpis SQIsigna jest pięć razy mniejszy niż najbardziej kompaktowa propozycja z trzeciej rundy konkursu NIST - protokół Falcon. Jego autorzy zaproponowali nowe podejście, przenieśli problem znajdowania izogenii między dwiema krzywymi na problem związany z ideałami, rzędami, normami oraz algebrą kwaternionów. Problemy te są równoważne, jedynie poszczególne etapy zostały opisane za pomocą innych struktur matematycznych. Elementem umożliwiającym translację ze świata krzywych do świata kwaternionów jest pierścień endomorfizmów krzywej, a związek ten nazywa się zgodnością Deuringa (ang. Deuring Correspondence). Skąd takie podejście? Okazuje się, że problem postawiony w ten sposób jest prostszy do rozwiązania, ponadto został on rozwiązany i to za pomocą wydajnego algorytmu działającego w czasie wielomianowym.Algorytm ten nazywa się KLPT i został  opracowany w 2014 roku. Autorzy SQISigna rozwinęli go.\n",
    "\n",
    ">**Schemat działania**\n",
    "\n",
    "Parametry startowe: losowa liczba pierwsza p, supersingularna ustalona krzywa eliptyczna $E_{0}$ nad ciałem $F_{p^2}$ ze znanym pierścieniem endomorfizmów $O_{0}$. Generacja klucza: wybieramy losowo pewną izogenię $τ$ prowadzącą z $E_{0}$ w $E_{A}$, $τ: E_{0}\\rightarrow E_{A}$. Kluczem publicznym jest krzywa eliptyczna $E_{0}$, a kluczem prywatnym izogenia $τ$. Dowód z wiedzą zerową w tym protokole przebiega następująco: strona udowadniająca generuje losową izogenie $ψ: E_{0}\\rightarrow E_{1}$ i wysyła krzywą $E_{1}$ do strony weryfikującej, która konstruuje kolejną izogenię $φ: E_{1}\\rightarrow E_{2}$  i odsyła ją oraz $E_{2}$ do strony udowadniającej - ta posiada teraz trzy izogenie: $τ$, $ψ$ oraz $φ$, wylicza kolejną $σ$ jako złożenie: $φ\\ ◦\\ ψ\\ ◦\\ τ: E_{A}\\rightarrow E_{2}$, wysyła ją do strony weryfikującej. Ta akceptuje żądanie uwierzytelnienia jeśli otrzymana izogenia  σ faktycznie prowadzi z $E_{A}$ w $E_{2}$ w przeciwnym wypadku odrzuca żądanie.\n",
    "\n",
    "![](images/sgi_sign.png)\n",
    "\n",
    "*schemat opisanego powyżej dowodu z wiedzą zerową - New algorithms for the Deuring correspondence: SQISign twice as fast Luca De Feo, Antonin Leroux and Benjamin Wesolowski*\n",
    "\n",
    ">**Bezpieczeństwo**\n",
    "\n",
    "Protokół SQISign oferuje bezpieczeństwo klasyczne na poziomie 128 bitów, oraz postkwantowe na poziomie pierwszej kategorii NIST. Rozmiary kluczy oraz podpisu są następujące - 16 bajtowy klucz prywatny, 64 bajtowy klucz publiczny oraz 204 bajtowy podpis. Na współczesnym komputerze przedstawiony algorytm generuje klucze w około pół sekundy, podpisuje dokument w nieco ponad 2 sekundy oraz weryfikuje podpis poniżej jednej dziesiątej sekundy.\n",
    "\n",
    "\n",
    "\n",
    "\n",
    "\n"
   ]
  },
  {
   "cell_type": "markdown",
   "metadata": {},
   "source": []
  }
 ],
 "metadata": {
  "kernelspec": {
   "display_name": "Python 3",
   "language": "python",
   "name": "python3"
  },
  "language_info": {
   "codemirror_mode": {
    "name": "ipython",
    "version": 3
   },
   "file_extension": ".py",
   "mimetype": "text/x-python",
   "name": "python",
   "nbconvert_exporter": "python",
   "pygments_lexer": "ipython3",
   "version": "3.11.0 (main, Oct 24 2022, 18:26:48) [MSC v.1933 64 bit (AMD64)]"
  },
  "orig_nbformat": 4,
  "vscode": {
   "interpreter": {
    "hash": "98f26e2dbefc15f9c7c4aac2af27595c9f0f9205c75ac8f856ece79a0df83888"
   }
  }
 },
 "nbformat": 4,
 "nbformat_minor": 2
}
