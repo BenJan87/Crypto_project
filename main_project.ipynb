{
 "cells": [
  {
   "attachments": {},
   "cell_type": "markdown",
   "metadata": {},
   "source": [
    "# Szyfrowanie poskwantowe z użyciem izogenii - Beniamin Jankowski, Paweł Kica, Kamil Szydłowski"
   ]
  },
  {
   "attachments": {},
   "cell_type": "markdown",
   "metadata": {},
   "source": [
    "## 1. Co to kwanty i komputery kwantowe?\n",
    "\n",
    "> **Trochę historii...**\n",
    "* W związku z rozwojemt technologii, potrzebujemy coraz lepszych, skuteczniejszych i szybszych metod rozwiązywania problemów. Dochodzimy do momentu, gdzie pewne skomplikowane operacje wymagają za dużo czasu. Z pomocą fizyków kwantowych tworzono pierwsze prototypy komputerów kwantowych już w 2001 roku przez grupę informatyków i Uniwersytetu Stanford - dokonano rozkładu liczby 15 na liczby 3 oraz 5. Liczbę 21 rozłożono dopiero w 2011.\n",
    "\n",
    "    ![](images/first_quantum_computer.jpg)\n",
    "    \n",
    "    *Pierwszy komputer kwantowy z 2011 roku stworzony przez kanadyjską firmę D-Wave Systems, Inc. - obraz ich autorstwa*\n",
    "\n",
    "> **Jak działają komputery kwantowe**\n",
    "* Komputery kwantowe działają na zasadzie mechaniki kwantowej, gdzie operujemy na tzw. *kubitach* lub *bitach kwantowych*. Jak sama nazwa mówi są to odpowiedniki bitów, natomiast posiadają niezwykłe właściwości. Powszechnie wiadomo, że bit jest reprezentowany jako 0 lub 1.  Kubit z kolei może przyjmować stan pomiędzy wartością 0 a 1, może być 'trochę jedynką, trochę zerem' - jednocześnie jedynką oraz jednocześnie zerem.\n",
    "\n",
    "    ![wybrażenie stanu kubitu jako sfera Blocha - autorstwa Smite-Meister](images/Bloch_sphere.svg.png) \n",
    "    \n",
    "    *Wybrażenie stanu kubitu jako sfera Blocha - autorstwa Smite-Meister*\n",
    "    \n",
    "    Właściwość ta nazywa się superpozycją jedynki oraz zera (tak jak w równaniach różniczkowych - jedno rozwiązanie plus drugie rozwiązanie wciąż daje rozwiązanie danego równania). W związku z tak potężną umiejętnością kubitu, jesteśmy w stanie prowadzić wiele obliczeń równolegle - tutaj skojarzenia mogą prowadzić do wielowątkowości. O stanie takiego kubitu dowiaduejmy się dopiero po zmierzeniu tego stanu. Na podobnej zasadzie możemy dążyć do generowania liczb prawdziwie-losowych na podstawie polaryzacji światła.\n",
    "\n",
    "> **Czy komputery kwantowe rzeczywiście są szybsze od współczesnych komputerów??**\n",
    "* Otóż *nie*, a przynajmniej nie do końca. Gdyby dało się przeglądać internet czy oglądać filmy na komputerze kwantowym - sam proces byłby równie szybki co na współczesnym komputerze. Prawdziwa moc komputerów kwantowych objawia się nam podczas obliczania specyficznych zależności i wykonywania konkretnych algorytmów. Dobrym przykładem jest problem faktoryzacji dużych liczb, czyli rozkładu na dwie pierwsze liczby. Superkomputery wciąż do tego problemu używają techniki brute-force, co, najzwyczajniej w świecie, zajmuje czas. Aktualnie algorytm ten jest uważany za bezpieczny, natomiast dzięki komputerom kwantowym możemy usprawnić oblcizenia stosując możliwość wykonywania wielu operacji naraz.\n",
    "\n",
    "* Załóżmy, że mamy dwa bity, czyli są cztery możliwości: 00, 10, 01, 11. Skoro kubit może być 'jednocześnie' zerem lub jedynką potrzebujemy tylko dwóch kubitów, aby posiadać cztery wymienione wyżej stany. Liczba stanów określa się za pomocą wzoru 2<sup>N</sup>, gdzie N to liczba kubitów. Na przykładzie weźmy liczbę półpierwszą (liczba iloczynu dwóch liczb pierwszych), która jest rzędu ok. 10<sup>200</sup> - zwykły komputer potrzebuje 2000 lat na odgadnięciu tych dwóch liczb pierwszych. \n",
    "\n",
    "> **Czyli udało się rozłożyć ogromne liczby pierwsze?**\n",
    "* Czysto teoretycznie jesteśmy w stanie robić *2<sup>n</sup>* zamiast *n* obliczeń za pomocą komputerów kwantowych, natomiast nie jest to zgodne ze stanem faktycznym. W 2018 roku, za pomocą 2 kubitów jesteśmy w stanie faktoryzować liczbe 7-cyfrową t.j. 4088459 [by IBM researchgroup](https://arxiv.org/abs/1805.10478) - warto dodać, że jest to największa dotąd rozłożona liczba półpierwsza za pomocą kwantów. W związku z tym nie jesteśmy w stanie jeszcze rozkładać ogromnych liczb pierwszych za pomocą technologii kwantowych, natomiast może to się zupełnie zmienić po wprowadzeniu teorii informatyczno-fizycznej w codzienny użytek."
   ]
  },
  {
   "attachments": {},
   "cell_type": "markdown",
   "metadata": {},
   "source": [
    "## 2. Krzywe eliptyczne\n",
    "\n",
    ">**Po co są tutaj krzywe eliptyczne?**\n",
    "\n",
    "* Aby odkryć moc Izogenii, które będą wyjaśnionie w późniejszych akapitach najpierw należy odkryć krzywe eliptyczne. Przedstawimy najprostsze i niezbędne zagadania dot. tego tematu. Na początek należy zdefiniować działania na potrzeby szyfrowania w kryptografii.\\\n",
    "Można udowodnić, że każdą krzywą eliptyczną można zapisać w postaci: y<sup>2</sup> + axy + by = x<sup>3</sup> + cx<sup>2</sup> + dx + e\n",
    "\n",
    ">**Aksjomaty**\n",
    "\n",
    "* Wprowadźmy parę rzeczy:\n",
    "\n",
    "    * Spróbujmy pododawać punkty na płaszczyźnie. Dodawanie definiujemy następująco:\\\n",
    "    Jeśli trzy punkty (A, B, C) są współliniowe to ***A + B + C = 0***.\\\n",
    "    Zatem A + B = -C => Należy zdefiniować co oznacza punkt **-C**.\n",
    "\n",
    "    * Negacją punktu nazywamy operację *odbicia* punktu względem osi O<sub>x</sub> - oznaczamy wtedy taki punkt z minusem.\n",
    "    \n",
    "Zatem jeśli mamy już te dwa działania, to wyobraźmy sobie dwa punkty i przeprowadźmy przez nią prostą. Niech te punkty należą do krzywej o równaniu y<sup>2</sup> = x<sup>3</sup> - 3x + 4. Punkty mają współrzędne A=(-2, $\\sqrt{2}$), B=(0,2). Obliczamy równanie prostej, które wraz z naszą zadaną krzywą eliptyczną tworzą układ równań, gdzie znamy już dwa rozwiązania (gdyż punkty A oraz B należą zarówno do krzywej jak i prostej). Następnie nalęzy znegować otrzymany punkt - poniżej wykres przedstawiający sytuację oraz pokazujący otrzymany punkt. Do zwizualizowania powyższej sytuacji (jak również pozostałych wykresów) użyto strony [Elliptic Curve scalar multiplication (𝔽p)](https://andrea.corbellini.name/ecc/interactive/reals-add.html))\n",
    "\n",
    "![](images/eliptic_add_basic.png)\n",
    "\n",
    "* Co jeżeli punkty się pokrywają, tzn. A = B ?\\\n",
    "    Wtedy możemy poprowadzić styczną do wykresu w tym punkcie, czyli liczenie pochodnej funkcji - *UWAGA* krzywa eliptyczna nie jest funkcją, gdyż $y = \\pm\\sqrt{x^3 - 3x + 4}$. Z tego powodu należy dopasować funkcję do podanego punktu - zależy czy rzędna punktu jest dodatnia czy ujemna. Poniżej przedstawiono dodawanie A + A, czyli 2A:\n",
    "\n",
    "    ![](images/same_point_adding.png)\n",
    "\n",
    "* Mając dodawanie różnych oraz tych samych punktów, możemy teraz zdefiniować mnożenie punktu jako $n\\ ·\\ A = A + A + ... + A$, gdzie dodajemy A do siebie n razy, czyli: $A + A = 2A$, jak również: $A + A + A = 2A + A = 3A$ itd. Poniżej przykładowe mnożenie punktu A - 5 razy.\n",
    "\n",
    "    ![](images/multi_point.png)\n",
    "\n",
    ">**Czy można <i>utrudnić</i> cały proces?**\n",
    "\n",
    "Tak, można rozważać punkty tylko w pewnym ciele. Ciało te to 𝔽p, gdzie zamiast dzielenia będziemy wyznaczać element odwrotny w tym właśnie ciele skończonym. Jak sama nazwa mówi, ma ono ograniczoną liczbę elementów. Także poruszamy się tylko po pewnch punktach po naszej krzywej, która teraz przyjęła postać: $y^2 = x^3 + Ax + B\\ mod\\ P$.\n",
    "\n",
    ">**Kolejne kroki algorytmu**\n",
    "\n",
    "* Na początku potrzebujemy rozbudowanego algorytmu Euclidesa. Ogólnie polega na znalezieniu liczb, które spełniają poniższą zależność:\\\n",
    "    ax + by = NWD(a, b) - gdzie NWD to najwięszky wspólny dzielnik liczby a oraz b.\\\n",
    "    Poniżej podano jego implementację (skorzystano z danego [pseudokodu](https://en.wikipedia.org/wiki/Extended_Euclidean_algorithm#Pseudocode))\n"
   ]
  },
  {
   "cell_type": "code",
   "execution_count": 30,
   "metadata": {},
   "outputs": [
    {
     "name": "stdout",
     "output_type": "stream",
     "text": [
      "(3, -63, 17)\n"
     ]
    }
   ],
   "source": [
    "def extended_euclidean_algorithm(a, b):\n",
    "    \n",
    "    s, old_s = 0, 1\n",
    "    t, old_t = 1, 0\n",
    "    r, old_r = b, a\n",
    "\n",
    "    while r != 0:\n",
    "        quotient = old_r // r\n",
    "        old_r, r = r, old_r - quotient * r\n",
    "        old_s, s = s, old_s - quotient * s\n",
    "        old_t, t = t, old_t - quotient * t\n",
    "\n",
    "    return old_r, old_s, old_t\n",
    "\n",
    "print(extended_euclidean_algorithm(123, 456))\n"
   ]
  },
  {
   "attachments": {},
   "cell_type": "markdown",
   "metadata": {},
   "source": [
    "* Następnie potrzebujemy dzielenia modulo, gdzie tak naprawdę nie istnieje takie działanie. Dlatego zamiast $\\frac{x}{y}$ będziemy używać $x\\cdot y^{-1}$. W przypadku naszego skończonego ciała $y^{-1}$ będziemy rozumieć jako element odwrotny do $y$. Do tego będzie nam słyżyć poniższa implementacja:"
   ]
  },
  {
   "cell_type": "code",
   "execution_count": 35,
   "metadata": {},
   "outputs": [
    {
     "name": "stdout",
     "output_type": "stream",
     "text": [
      "4\n"
     ]
    }
   ],
   "source": [
    "def inverse_of(n, p):\n",
    "    \n",
    "    gcd, x, y = extended_euclidean_algorithm(n, p)\n",
    "    assert (n * x + p * y) % p == gcd\n",
    "\n",
    "    if gcd != 1:\n",
    "        raise ValueError(f\"{n} has no multiplicative inverse modulo {p}\")\n",
    "    return x % p\n",
    "\n",
    "print(inverse_of(5, 19))"
   ]
  },
  {
   "attachments": {},
   "cell_type": "markdown",
   "metadata": {},
   "source": [
    "* Poniżej z kolei znajduje się implementacja punktu należącego do 𝔽p oraz znajdujący się na zadanej krzywej. W komentarza kolejno wyjaśniono kolejne funkcje. Z pewnością najważniejsza funkcja to funkcja ```__mul__```, dzięki której jesteśmy w stanie mnożyć punkty przez skalary. Użyto tutaj algorytmu, który jest optymalny z pary względów. Zamiast dodawać punkty do siebie **n** razy można skorzystać z tzw. \"double and add\", czyli można pomnożyć ten punkt razy dwa a następnie przez skalar o połowę miejszy dopóki nie uzyskamy n pomnożonego punktu. Oczywiście trzeba pamiętać o liczbach nieparzystych co zostało uzwględnione w metodzie magicznej ```__mul__```:"
   ]
  },
  {
   "cell_type": "code",
   "execution_count": 32,
   "metadata": {},
   "outputs": [],
   "source": [
    "\n",
    "\n",
    "class EllipticCurve():\n",
    "    # Tworzenie klasy krzywej eliptycznej\n",
    "    # z współczynnikami A, B i liczbą pierwszą p\n",
    "    def __init__(self, a, b, p):\n",
    "        self.a = a\n",
    "        self.b = b\n",
    "        self.p = p\n",
    "\n",
    "\n",
    "class Point():\n",
    "\n",
    "    # Poniżej budujemy punkt i utożsamamy go z daną krzywą\n",
    "    # Jeśli punkt nie jest określony, to ustawiamy x i y na nieskończoność - tzw. punkt w nieskończoności\n",
    "    def __init__(self, curve, x=float(\"inf\"), y=float(\"inf\")):\n",
    "        self.curve = curve\n",
    "        self.p = curve.p\n",
    "        self.x = x % curve.p\n",
    "        self.y = y % curve.p\n",
    "\n",
    "    \n",
    "    def __str__(self):\n",
    "        return f\"Point({self.x}, {self.y} with p={self.p})\"\n",
    "\n",
    "    def __add__(self, sec_point):\n",
    "        # sprawdzanie czy to ten sam punkt - czyli podwojenie go\n",
    "        if self.x == sec_point.x and self.y == sec_point.y:\n",
    "            return self.double()\n",
    "        \n",
    "        dx = sec_point.x - self.x\n",
    "        dy = sec_point.y - self.y\n",
    "\n",
    "        # nie chcemy dzilić przez 0 :(\n",
    "        if dx == 0:\n",
    "            return Point(self.curve)\n",
    "        \n",
    "        # obliczanie nachylenia, lecz zamiast dzielić przez dx, to mnożymy przez jego element odwrotny        \n",
    "        slope = (dy * inverse_of(dx, self.p)) % self.p\n",
    "        \n",
    "        x = (slope ** 2) - self.x - sec_point.x\n",
    "        y = slope * x + (self.y - slope * self.x)\n",
    "        x %= self.p\n",
    "        y %= self.p\n",
    "\n",
    "        # pamiętajmy o zwróceniu negacji y\n",
    "        return Point(self.curve, x, -y)\n",
    "        \n",
    "    def __mul__(self, scalar):\n",
    "        # funkcja jako mnożenie punktu przez skalar - czyli dodawanie\n",
    "        \n",
    "        # mnożenie przez 0 zwraca punkt w nieskończoności\n",
    "        if scalar == 0:\n",
    "            return Point(self.curve)\n",
    "        # mnożenie przez 1 zwraca ten sam punkt\n",
    "        if scalar == 1:\n",
    "            return self\n",
    "        \n",
    "        # sytuacja przy skalarze parzystym\n",
    "        if scalar % 2 == 0:\n",
    "            lambda_ = ((3 * self.x * self.x + self.curve.a) * inverse_of(2 * self.y, self.p)) % self.p\n",
    "            new_x = (lambda_ * lambda_ - 2 * self.x) % self.p\n",
    "            new_y = (lambda_ * (self.x - new_x) - self.y) % self.p\n",
    "            return Point(self.curve, new_x, new_y) * (scalar // 2)\n",
    "        \n",
    "        # pamiętać o nieparzystych skalarach - wtedy należy po prostu dodać\n",
    "        else:\n",
    "            return self + self * (scalar - 1)\n",
    "\n",
    "    def double(self):\n",
    "        # podwajanie punktu jako liczenie pochodnej - nachylenia stycznej\n",
    "        \n",
    "        slope = (3 * (self.x ** 2) + self.curve.a) * inverse_of(2 * self.y, self.p)\n",
    "        x = (slope ** 2) - (2 * self.x)\n",
    "        y = slope * x + (self.y - slope * self.x)\n",
    "        \n",
    "        x %= self.p\n",
    "        y %= self.p\n",
    "\n",
    "        return Point(self.curve, x, -y)\n",
    "    \n",
    "    def __getitem__(self, i):\n",
    "        # funkcja pomocnicza do późniejszych algorytmów\n",
    "\n",
    "        if i == 0:\n",
    "            return self.x\n",
    "        elif i == 1:\n",
    "            return self.y\n",
    "\n",
    "    def oppsite(self):\n",
    "        # funkcja negująca\n",
    "        return Point(self.curve, self.x, -self.y)    "
   ]
  },
  {
   "attachments": {},
   "cell_type": "markdown",
   "metadata": {},
   "source": [
    "Poniżej *drobny* test funkcji dodającej oraz mnożącej przy użyciu podanych parametrów"
   ]
  },
  {
   "cell_type": "code",
   "execution_count": 37,
   "metadata": {},
   "outputs": [
    {
     "name": "stdout",
     "output_type": "stream",
     "text": [
      "Dwa pierwsze punkty\n",
      "Point(3, 58 with p=257)\n",
      "Point(112, 141 with p=257)\n",
      "Następne punkty powinny być identyczne - mnożenie przez 6 lub dodawanie 6 razy tego samego punktu\n",
      "Point(254, 66 with p=257)\n",
      "Point(254, 66 with p=257)\n"
     ]
    }
   ],
   "source": [
    "P = 257\n",
    "A = -3\n",
    "B = 5\n",
    "\n",
    "test_el_curve = EllipticCurve(A, B, P)\n",
    "\n",
    "# punkt nalężacy do zadanej krzywej eliptycznej\n",
    "first_Point = Point(test_el_curve, 3, 58)\n",
    "\n",
    "print(\"Dwa pierwsze punkty\")\n",
    "print(first_Point)\n",
    "print(first_Point + first_Point)\n",
    "\n",
    "print(\"Następne punkty powinny być identyczne - mnożenie przez 6 lub dodawanie 6 razy tego samego punktu\")\n",
    "print(first_Point + first_Point + first_Point + first_Point + first_Point + first_Point)\n",
    "print(first_Point * 6)\n",
    "\n"
   ]
  },
  {
   "attachments": {},
   "cell_type": "markdown",
   "metadata": {},
   "source": [
    ">**Wizualizacja powyższej implementacji**\n",
    "\n",
    "* Jak pamiętamy z wizualizacji, gdzie rozważaliśmy naszą krzywą eliptyczną nad ciałem ℝ, dodawanie to było to odbicie punktu względem osi odciętych punktu który jako trzeci należał jednocześnie do prostej oraz krzywej eliptycznej. Poniżej wizualizacja dodawania w naszym ciele skończonym\n",
    "\n",
    "    ![](images/eliptic_points.png)\n",
    "\n",
    "    Jak widzimy krzywa eliptyczna przyjęła postać pewnych punktów, a prosta to tak naprawdę prost**e**, którę przechodzą przez właśnie trzy punkty. Całość można porównać do poniższego rysunku torusa, gdzie prosta to tak naprawdę krzywa zakręcająca wokół niego ([źródło obrazu](https://mathematica.stackexchange.com/questions/115414/curve-wound-on-torus?noredirect=1)):\n",
    "\n",
    "    ![](images/torus.png)"
   ]
  }
 ],
 "metadata": {
  "kernelspec": {
   "display_name": "Python 3",
   "language": "python",
   "name": "python3"
  },
  "language_info": {
   "codemirror_mode": {
    "name": "ipython",
    "version": 3
   },
   "file_extension": ".py",
   "mimetype": "text/x-python",
   "name": "python",
   "nbconvert_exporter": "python",
   "pygments_lexer": "ipython3",
   "version": "3.11.0 (main, Oct 24 2022, 18:26:48) [MSC v.1933 64 bit (AMD64)]"
  },
  "orig_nbformat": 4,
  "vscode": {
   "interpreter": {
    "hash": "98f26e2dbefc15f9c7c4aac2af27595c9f0f9205c75ac8f856ece79a0df83888"
   }
  }
 },
 "nbformat": 4,
 "nbformat_minor": 2
}
