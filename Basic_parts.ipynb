{
 "cells": [
  {
   "attachments": {},
   "cell_type": "markdown",
   "metadata": {},
   "source": [
    "# Szyfrowanie poskwantowe z użyciem izogenii - Beniamin Jankowski, Paweł Kica, Kamil Szydłowski"
   ]
  },
  {
   "attachments": {},
   "cell_type": "markdown",
   "metadata": {},
   "source": [
    "## 1. Co to kwanty i komputery kwantowe?\n",
    "\n",
    "> **Trochę historii...**\n",
    "* W związku z rozwojemt technologii, potrzebujemy coraz lepszych, skuteczniejszych i szybszych metod rozwiązywania problemów. Dochodzimy do momentu, gdzie pewne skomplikowane operacje wymagają za dużo czasu. Z pomocą fizyków kwantowych tworzono pierwsze prototypy komputerów kwantowych już w 2001 roku przez grupę informatyków i Uniwersytetu Stanford - dokonano rozkładu liczby 15 na liczby 3 oraz 5. Liczbę 21 rozłożono dopiero w 2011.\n",
    "\n",
    "    ![](images/first_quantum_computer.jpg)\n",
    "    \n",
    "    *Pierwszy komputer kwantowy z 2011 roku stworzony przez kanadyjską firmę D-Wave Systems, Inc. - obraz ich autorstwa*\n",
    "\n",
    "> **Jak działają komputery kwantowe**\n",
    "* Komputery kwantowe działają na zasadzie mechaniki kwantowej, gdzie operujemy na tzw. *kubitach* lub *bitach kwantowych*. Jak sama nazwa mówi są to odpowiedniki bitów, natomiast posiadają niezwykłe właściwości. Powszechnie wiadomo, że bit jest reprezentowany jako 0 lub 1.  Kubit z kolei może przyjmować stan pomiędzy wartością 0 a 1, może być 'trochę jedynką, trochę zerem' - jednocześnie jedynką oraz jednocześnie zerem.\n",
    "\n",
    "    ![wybrażenie stanu kubitu jako sfera Blocha - autorstwa Smite-Meister](images/Bloch_sphere.svg.png) \n",
    "    \n",
    "    *Wybrażenie stanu kubitu jako sfera Blocha - autorstwa Smite-Meister*\n",
    "    \n",
    "    Właściwość ta nazywa się superpozycją jedynki oraz zera (tak jak w równaniach różniczkowych - jedno rozwiązanie plus drugie rozwiązanie wciąż daje rozwiązanie danego równania). W związku z tak potężną umiejętnością kubitu, jesteśmy w stanie prowadzić wiele obliczeń równolegle - tutaj skojarzenia mogą prowadzić do wielowątkowości. O stanie takiego kubitu dowiaduejmy się dopiero po zmierzeniu tego stanu. Na podobnej zasadzie możemy dążyć do generowania liczb prawdziwie-losowych na podstawie polaryzacji światła.\n",
    "\n",
    "> **Czy komputery kwantowe rzeczywiście są szybsze od współczesnych komputerów??**\n",
    "* Otóż *nie*, a przynajmniej nie do końca. Gdyby dało się przeglądać internet czy oglądać filmy na komputerze kwantowym - sam proces byłby równie szybki co na współczesnym komputerze. Prawdziwa moc komputerów kwantowych objawia się nam podczas obliczania specyficznych zależności i wykonywania konkretnych algorytmów. Dobrym przykładem jest problem faktoryzacji dużych liczb, czyli rozkładu na dwie pierwsze liczby. Superkomputery wciąż do tego problemu używają techniki brute-force, co, najzwyczajniej w świecie, zajmuje czas. Aktualnie algorytm ten jest uważany za bezpieczny, natomiast dzięki komputerom kwantowym możemy usprawnić oblcizenia stosując możliwość wykonywania wielu operacji naraz.\n",
    "\n",
    "* Załóżmy, że mamy dwa bity, czyli są cztery możliwości: 00, 10, 01, 11. Skoro kubit może być 'jednocześnie' zerem lub jedynką potrzebujemy tylko dwóch kubitów, aby posiadać cztery wymienione wyżej stany. Liczba stanów określa się za pomocą wzoru 2<sup>N</sup>, gdzie N to liczba kubitów. Na przykładzie weźmy liczbę półpierwszą (liczba iloczynu dwóch liczb pierwszych), która jest rzędu ok. 10<sup>200</sup> - zwykły komputer potrzebuje 2000 lat na odgadnięciu tych dwóch liczb pierwszych. \n",
    "\n",
    "> **Czyli udało się rozłożyć ogromne liczby pierwsze?**\n",
    "* Czysto teoretycznie jesteśmy w stanie robić *2<sup>n</sup>* zamiast *n* obliczeń za pomocą komputerów kwantowych, natomiast nie jest to zgodne ze stanem faktycznym. W 2018 roku, za pomocą 2 kubitów jesteśmy w stanie faktoryzować liczbe 7-cyfrową t.j. 4088459 [by IBM researchgroup](https://arxiv.org/abs/1805.10478) - warto dodać, że jest to największa dotąd rozłożona liczba półpierwsza za pomocą kwantów. W związku z tym nie jesteśmy w stanie jeszcze rozkładać ogromnych liczb pierwszych za pomocą technologii kwantowych, natomiast może to się zupełnie zmienić po wprowadzeniu teorii informatyczno-fizycznej w codzienny użytek."
   ]
  },
  {
   "attachments": {},
   "cell_type": "markdown",
   "metadata": {},
   "source": [
    "## 2. Krzywe eliptyczne\n",
    "\n",
    ">**Po co są tutaj krzywe eliptyczne?**\n",
    "\n",
    "* Aby odkryć moc Izogenii, które będą wyjaśnionie dużo później najpierw należy odkryć krzywe eliptyczne."
   ]
  }
 ],
 "metadata": {
  "kernelspec": {
   "display_name": "Python 3",
   "language": "python",
   "name": "python3"
  },
  "language_info": {
   "name": "python",
   "version": "3.11.0 (main, Oct 24 2022, 18:26:48) [MSC v.1933 64 bit (AMD64)]"
  },
  "orig_nbformat": 4,
  "vscode": {
   "interpreter": {
    "hash": "98f26e2dbefc15f9c7c4aac2af27595c9f0f9205c75ac8f856ece79a0df83888"
   }
  }
 },
 "nbformat": 4,
 "nbformat_minor": 2
}
